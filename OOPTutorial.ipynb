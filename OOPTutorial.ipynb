{
 "cells": [
  {
   "cell_type": "markdown",
   "source": [
    "Video #1"
   ],
   "metadata": {}
  },
  {
   "cell_type": "code",
   "execution_count": 3,
   "source": [
    "class Employee:\r\n",
    "    pass\r\n",
    "\r\n",
    "emp_1 = Employee()\r\n",
    "emp_2 = Employee()\r\n",
    "\r\n",
    "print(emp_1)\r\n",
    "print(emp_2)\r\n",
    "\r\n",
    "emp_1.first = 'Corey'\r\n",
    "emp_1.last = 'Schafer'\r\n",
    "emp_1.email = 'corey.schafer@company.com'\r\n",
    "emp_1.pay = 50000\r\n",
    "\r\n",
    "emp_2.first = 'Test'\r\n",
    "emp_2.last = 'User'\r\n",
    "emp_2.email = 'test.user@company.com'\r\n",
    "emp_2.pay = 60000\r\n",
    "\r\n",
    "print(emp_1.email)\r\n",
    "print(emp_2.email)\r\n"
   ],
   "outputs": [
    {
     "output_type": "stream",
     "name": "stdout",
     "text": [
      "<__main__.Employee object at 0x0000021838BE4250>\n",
      "<__main__.Employee object at 0x0000021838BE4430>\n",
      "corey.schafer@company.com\n",
      "test.user@company.com\n"
     ]
    }
   ],
   "metadata": {}
  },
  {
   "cell_type": "code",
   "execution_count": 4,
   "source": [
    "class Employee:\r\n",
    "    def __init__(self, first, last, pay):\r\n",
    "        self.first = first\r\n",
    "        self.last = last\r\n",
    "        self.pay = pay\r\n",
    "        self.email = first + '.' + last + '@company.com'\r\n",
    "\r\n",
    "emp_1 = Employee('Corey', 'Schafer', '50000')\r\n",
    "emp_2 = Employee('Test', 'User', '60000')\r\n",
    "\r\n",
    "# print(emp_1)\r\n",
    "# print(emp_2)\r\n",
    "\r\n",
    "print(emp_1.email)\r\n",
    "print(emp_2.email)\r\n"
   ],
   "outputs": [
    {
     "output_type": "stream",
     "name": "stdout",
     "text": [
      "Corey.Schafer@company.com\n",
      "Test.User@company.com\n"
     ]
    }
   ],
   "metadata": {}
  },
  {
   "cell_type": "code",
   "execution_count": 5,
   "source": [
    "class Employee:\r\n",
    "    def __init__(self, first, last, pay):\r\n",
    "        self.first = first\r\n",
    "        self.last = last\r\n",
    "        self.pay = pay\r\n",
    "        self.email = first + '.' + last + '@company.com'\r\n",
    "\r\n",
    "emp_1 = Employee('Corey', 'Schafer', '50000')\r\n",
    "emp_2 = Employee('Test', 'User', '60000')\r\n",
    "\r\n",
    "# print(emp_1)\r\n",
    "# print(emp_2)\r\n",
    "\r\n",
    "print(emp_1.email)\r\n",
    "print(emp_2.email)\r\n",
    "\r\n",
    "print('{} {}'.format(emp_1.first, emp_1.last))"
   ],
   "outputs": [
    {
     "output_type": "stream",
     "name": "stdout",
     "text": [
      "Corey.Schafer@company.com\n",
      "Test.User@company.com\n",
      "Corey Schafer\n"
     ]
    }
   ],
   "metadata": {}
  },
  {
   "cell_type": "code",
   "execution_count": 11,
   "source": [
    "class Employee:\r\n",
    "    def __init__(self, first, last, pay):\r\n",
    "        self.first = first\r\n",
    "        self.last = last\r\n",
    "        self.pay = pay\r\n",
    "        self.email = first + '.' + last + '@company.com'\r\n",
    "\r\n",
    "    def fullname(self):\r\n",
    "        return '{} {}'.format(self.first, self.last)\r\n",
    "\r\n",
    "emp_1 = Employee('Corey', 'Schafer', '50000')\r\n",
    "emp_2 = Employee('Test', 'User', '60000')\r\n",
    "\r\n",
    "# print(emp_1)\r\n",
    "# print(emp_2)\r\n",
    "\r\n",
    "print(emp_1.email)\r\n",
    "print(emp_2.email)\r\n",
    "\r\n",
    "print(emp_1.fullname())\r\n",
    "print(emp_2.fullname())"
   ],
   "outputs": [
    {
     "output_type": "stream",
     "name": "stdout",
     "text": [
      "Corey.Schafer@company.com\n",
      "Test.User@company.com\n",
      "Corey Schafer\n",
      "Test User\n"
     ]
    }
   ],
   "metadata": {}
  },
  {
   "cell_type": "code",
   "execution_count": 14,
   "source": [
    "class Employee:\r\n",
    "    def __init__(self, first, last, pay):\r\n",
    "        self.first = first\r\n",
    "        self.last = last\r\n",
    "        self.pay = pay\r\n",
    "        self.email = first + '.' + last + '@company.com'\r\n",
    "\r\n",
    "    def fullname():\r\n",
    "        return '{} {}'.format(self.first, self.last)\r\n",
    "\r\n",
    "emp_1 = Employee('Corey', 'Schafer', '50000')\r\n",
    "emp_2 = Employee('Test', 'User', '60000')\r\n",
    "\r\n",
    "# print(emp_1)\r\n",
    "# print(emp_2)\r\n",
    "\r\n",
    "# print(emp_1.fullname())\r\n",
    "print(emp_2.fullname())"
   ],
   "outputs": [
    {
     "output_type": "error",
     "ename": "TypeError",
     "evalue": "fullname() takes 0 positional arguments but 1 was given",
     "traceback": [
      "\u001b[1;31m---------------------------------------------------------------------------\u001b[0m",
      "\u001b[1;31mTypeError\u001b[0m                                 Traceback (most recent call last)",
      "\u001b[1;32m<ipython-input-14-5ebb793e991e>\u001b[0m in \u001b[0;36m<module>\u001b[1;34m\u001b[0m\n\u001b[0;32m     16\u001b[0m \u001b[1;33m\u001b[0m\u001b[0m\n\u001b[0;32m     17\u001b[0m \u001b[1;31m# print(emp_1.fullname())\u001b[0m\u001b[1;33m\u001b[0m\u001b[1;33m\u001b[0m\u001b[1;33m\u001b[0m\u001b[0m\n\u001b[1;32m---> 18\u001b[1;33m \u001b[0mprint\u001b[0m\u001b[1;33m(\u001b[0m\u001b[0memp_2\u001b[0m\u001b[1;33m.\u001b[0m\u001b[0mfullname\u001b[0m\u001b[1;33m(\u001b[0m\u001b[1;33m)\u001b[0m\u001b[1;33m)\u001b[0m\u001b[1;33m\u001b[0m\u001b[1;33m\u001b[0m\u001b[0m\n\u001b[0m",
      "\u001b[1;31mTypeError\u001b[0m: fullname() takes 0 positional arguments but 1 was given"
     ]
    }
   ],
   "metadata": {}
  },
  {
   "cell_type": "code",
   "execution_count": 17,
   "source": [
    "class Employee:\r\n",
    "    def __init__(self, first, last, pay):\r\n",
    "        self.first = first\r\n",
    "        self.last = last\r\n",
    "        self.pay = pay\r\n",
    "        self.email = first + '.' + last + '@company.com'\r\n",
    "\r\n",
    "    def fullname(self):\r\n",
    "        return '{} {}'.format(self.first, self.last)\r\n",
    "\r\n",
    "emp_1 = Employee('Corey', 'Schafer', '50000')\r\n",
    "emp_2 = Employee('Test', 'User', '60000')\r\n",
    "\r\n",
    "# print(emp_1)\r\n",
    "# print(emp_2)\r\n",
    "\r\n",
    "# print(emp_1.fullname())\r\n",
    "print(emp_2.fullname())"
   ],
   "outputs": [
    {
     "output_type": "stream",
     "name": "stdout",
     "text": [
      "Test User\n"
     ]
    }
   ],
   "metadata": {}
  },
  {
   "cell_type": "code",
   "execution_count": 19,
   "source": [
    "class Employee:\r\n",
    "    def __init__(self, first, last, pay):\r\n",
    "        self.first = first\r\n",
    "        self.last = last\r\n",
    "        self.pay = pay\r\n",
    "        self.email = first + '.' + last + '@company.com'\r\n",
    "\r\n",
    "    def fullname(self):\r\n",
    "        return '{} {}'.format(self.first, self.last)\r\n",
    "\r\n",
    "emp_1 = Employee('Corey', 'Schafer', '50000')\r\n",
    "emp_2 = Employee('Test', 'User', '60000')\r\n",
    "\r\n",
    "print(emp_1.fullname())\r\n",
    "print(Employee.fullname(emp_1))\r\n",
    "# print(emp_1.fullname())\r\n",
    "# print(emp_2.fullname())"
   ],
   "outputs": [
    {
     "output_type": "stream",
     "name": "stdout",
     "text": [
      "Corey Schafer\n",
      "Corey Schafer\n"
     ]
    }
   ],
   "metadata": {}
  },
  {
   "cell_type": "markdown",
   "source": [
    "Video #2"
   ],
   "metadata": {}
  },
  {
   "cell_type": "code",
   "execution_count": null,
   "source": [],
   "outputs": [],
   "metadata": {}
  }
 ],
 "metadata": {
  "orig_nbformat": 4,
  "language_info": {
   "name": "python",
   "version": "3.8.8",
   "mimetype": "text/x-python",
   "codemirror_mode": {
    "name": "ipython",
    "version": 3
   },
   "pygments_lexer": "ipython3",
   "nbconvert_exporter": "python",
   "file_extension": ".py"
  },
  "kernelspec": {
   "name": "python3",
   "display_name": "Python 3.8.8 64-bit ('base': conda)"
  },
  "interpreter": {
   "hash": "2a11790902704dc6bb7eb9b0cc36ba8d9bfcef8051a10a2cc2f6462a1c7ebcad"
  }
 },
 "nbformat": 4,
 "nbformat_minor": 2
}