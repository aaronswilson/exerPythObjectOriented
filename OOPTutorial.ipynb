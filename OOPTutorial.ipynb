{
 "cells": [
  {
   "cell_type": "markdown",
   "source": [
    "Video #1"
   ],
   "metadata": {}
  },
  {
   "cell_type": "code",
   "execution_count": 3,
   "source": [
    "class Employee:\r\n",
    "    pass\r\n",
    "\r\n",
    "emp_1 = Employee()\r\n",
    "emp_2 = Employee()\r\n",
    "\r\n",
    "print(emp_1)\r\n",
    "print(emp_2)\r\n",
    "\r\n",
    "emp_1.first = 'Corey'\r\n",
    "emp_1.last = 'Schafer'\r\n",
    "emp_1.email = 'corey.schafer@company.com'\r\n",
    "emp_1.pay = 50000\r\n",
    "\r\n",
    "emp_2.first = 'Test'\r\n",
    "emp_2.last = 'User'\r\n",
    "emp_2.email = 'test.user@company.com'\r\n",
    "emp_2.pay = 60000\r\n",
    "\r\n",
    "print(emp_1.email)\r\n",
    "print(emp_2.email)\r\n"
   ],
   "outputs": [
    {
     "output_type": "stream",
     "name": "stdout",
     "text": [
      "<__main__.Employee object at 0x0000021838BE4250>\n",
      "<__main__.Employee object at 0x0000021838BE4430>\n",
      "corey.schafer@company.com\n",
      "test.user@company.com\n"
     ]
    }
   ],
   "metadata": {}
  },
  {
   "cell_type": "code",
   "execution_count": 4,
   "source": [
    "class Employee:\r\n",
    "    def __init__(self, first, last, pay):\r\n",
    "        self.first = first\r\n",
    "        self.last = last\r\n",
    "        self.pay = pay\r\n",
    "        self.email = first + '.' + last + '@company.com'\r\n",
    "\r\n",
    "emp_1 = Employee('Corey', 'Schafer', '50000')\r\n",
    "emp_2 = Employee('Test', 'User', '60000')\r\n",
    "\r\n",
    "# print(emp_1)\r\n",
    "# print(emp_2)\r\n",
    "\r\n",
    "print(emp_1.email)\r\n",
    "print(emp_2.email)\r\n"
   ],
   "outputs": [
    {
     "output_type": "stream",
     "name": "stdout",
     "text": [
      "Corey.Schafer@company.com\n",
      "Test.User@company.com\n"
     ]
    }
   ],
   "metadata": {}
  },
  {
   "cell_type": "code",
   "execution_count": 5,
   "source": [
    "class Employee:\r\n",
    "    def __init__(self, first, last, pay):\r\n",
    "        self.first = first\r\n",
    "        self.last = last\r\n",
    "        self.pay = pay\r\n",
    "        self.email = first + '.' + last + '@company.com'\r\n",
    "\r\n",
    "emp_1 = Employee('Corey', 'Schafer', '50000')\r\n",
    "emp_2 = Employee('Test', 'User', '60000')\r\n",
    "\r\n",
    "# print(emp_1)\r\n",
    "# print(emp_2)\r\n",
    "\r\n",
    "print(emp_1.email)\r\n",
    "print(emp_2.email)\r\n",
    "\r\n",
    "print('{} {}'.format(emp_1.first, emp_1.last))"
   ],
   "outputs": [
    {
     "output_type": "stream",
     "name": "stdout",
     "text": [
      "Corey.Schafer@company.com\n",
      "Test.User@company.com\n",
      "Corey Schafer\n"
     ]
    }
   ],
   "metadata": {}
  },
  {
   "cell_type": "code",
   "execution_count": 11,
   "source": [
    "class Employee:\r\n",
    "    def __init__(self, first, last, pay):\r\n",
    "        self.first = first\r\n",
    "        self.last = last\r\n",
    "        self.pay = pay\r\n",
    "        self.email = first + '.' + last + '@company.com'\r\n",
    "\r\n",
    "    def fullname(self):\r\n",
    "        return '{} {}'.format(self.first, self.last)\r\n",
    "\r\n",
    "emp_1 = Employee('Corey', 'Schafer', '50000')\r\n",
    "emp_2 = Employee('Test', 'User', '60000')\r\n",
    "\r\n",
    "# print(emp_1)\r\n",
    "# print(emp_2)\r\n",
    "\r\n",
    "print(emp_1.email)\r\n",
    "print(emp_2.email)\r\n",
    "\r\n",
    "print(emp_1.fullname())\r\n",
    "print(emp_2.fullname())"
   ],
   "outputs": [
    {
     "output_type": "stream",
     "name": "stdout",
     "text": [
      "Corey.Schafer@company.com\n",
      "Test.User@company.com\n",
      "Corey Schafer\n",
      "Test User\n"
     ]
    }
   ],
   "metadata": {}
  },
  {
   "cell_type": "code",
   "execution_count": 14,
   "source": [
    "class Employee:\r\n",
    "    def __init__(self, first, last, pay):\r\n",
    "        self.first = first\r\n",
    "        self.last = last\r\n",
    "        self.pay = pay\r\n",
    "        self.email = first + '.' + last + '@company.com'\r\n",
    "\r\n",
    "    def fullname():\r\n",
    "        return '{} {}'.format(self.first, self.last)\r\n",
    "\r\n",
    "emp_1 = Employee('Corey', 'Schafer', '50000')\r\n",
    "emp_2 = Employee('Test', 'User', '60000')\r\n",
    "\r\n",
    "# print(emp_1)\r\n",
    "# print(emp_2)\r\n",
    "\r\n",
    "# print(emp_1.fullname())\r\n",
    "print(emp_2.fullname())"
   ],
   "outputs": [
    {
     "output_type": "error",
     "ename": "TypeError",
     "evalue": "fullname() takes 0 positional arguments but 1 was given",
     "traceback": [
      "\u001b[1;31m---------------------------------------------------------------------------\u001b[0m",
      "\u001b[1;31mTypeError\u001b[0m                                 Traceback (most recent call last)",
      "\u001b[1;32m<ipython-input-14-5ebb793e991e>\u001b[0m in \u001b[0;36m<module>\u001b[1;34m\u001b[0m\n\u001b[0;32m     16\u001b[0m \u001b[1;33m\u001b[0m\u001b[0m\n\u001b[0;32m     17\u001b[0m \u001b[1;31m# print(emp_1.fullname())\u001b[0m\u001b[1;33m\u001b[0m\u001b[1;33m\u001b[0m\u001b[1;33m\u001b[0m\u001b[0m\n\u001b[1;32m---> 18\u001b[1;33m \u001b[0mprint\u001b[0m\u001b[1;33m(\u001b[0m\u001b[0memp_2\u001b[0m\u001b[1;33m.\u001b[0m\u001b[0mfullname\u001b[0m\u001b[1;33m(\u001b[0m\u001b[1;33m)\u001b[0m\u001b[1;33m)\u001b[0m\u001b[1;33m\u001b[0m\u001b[1;33m\u001b[0m\u001b[0m\n\u001b[0m",
      "\u001b[1;31mTypeError\u001b[0m: fullname() takes 0 positional arguments but 1 was given"
     ]
    }
   ],
   "metadata": {}
  },
  {
   "cell_type": "code",
   "execution_count": 17,
   "source": [
    "class Employee:\r\n",
    "    def __init__(self, first, last, pay):\r\n",
    "        self.first = first\r\n",
    "        self.last = last\r\n",
    "        self.pay = pay\r\n",
    "        self.email = first + '.' + last + '@company.com'\r\n",
    "\r\n",
    "    def fullname(self):\r\n",
    "        return '{} {}'.format(self.first, self.last)\r\n",
    "\r\n",
    "emp_1 = Employee('Corey', 'Schafer', '50000')\r\n",
    "emp_2 = Employee('Test', 'User', '60000')\r\n",
    "\r\n",
    "# print(emp_1)\r\n",
    "# print(emp_2)\r\n",
    "\r\n",
    "# print(emp_1.fullname())\r\n",
    "print(emp_2.fullname())"
   ],
   "outputs": [
    {
     "output_type": "stream",
     "name": "stdout",
     "text": [
      "Test User\n"
     ]
    }
   ],
   "metadata": {}
  },
  {
   "cell_type": "code",
   "execution_count": 19,
   "source": [
    "class Employee:\r\n",
    "    def __init__(self, first, last, pay):\r\n",
    "        self.first = first\r\n",
    "        self.last = last\r\n",
    "        self.pay = pay\r\n",
    "        self.email = first + '.' + last + '@company.com'\r\n",
    "\r\n",
    "    def fullname(self):\r\n",
    "        return '{} {}'.format(self.first, self.last)\r\n",
    "\r\n",
    "emp_1 = Employee('Corey', 'Schafer', '50000')\r\n",
    "emp_2 = Employee('Test', 'User', '60000')\r\n",
    "\r\n",
    "print(emp_1.fullname())\r\n",
    "print(Employee.fullname(emp_1))\r\n",
    "# print(emp_1.fullname())\r\n",
    "# print(emp_2.fullname())"
   ],
   "outputs": [
    {
     "output_type": "stream",
     "name": "stdout",
     "text": [
      "Corey Schafer\n",
      "Corey Schafer\n"
     ]
    }
   ],
   "metadata": {}
  },
  {
   "cell_type": "markdown",
   "source": [
    "Video #2"
   ],
   "metadata": {}
  },
  {
   "cell_type": "code",
   "execution_count": 26,
   "source": [
    "class Employee:\r\n",
    "\r\n",
    "    raise_amount = 1.04\r\n",
    "    def __init__(self, first, last, pay):\r\n",
    "        self.first = first\r\n",
    "        self.last = last\r\n",
    "        self.pay = pay\r\n",
    "        self.email = first + '.' + last + '@company.com'\r\n",
    "\r\n",
    "    def fullname(self):\r\n",
    "        return '{} {}'.format(self.first, self.last)\r\n",
    "\r\n",
    "    def apply_raise(self):\r\n",
    "        self.pay = int(self.pay * Employee.raise_amount)\r\n",
    "\r\n",
    "emp_1 = Employee('Corey', 'Schafer', 50000)\r\n",
    "emp_2 = Employee('Test', 'User', 60000)\r\n",
    "\r\n",
    "print(emp_1.pay)\r\n",
    "emp_1.apply_raise()\r\n",
    "print(emp_1.pay)\r\n",
    "print(emp_1.raise_amount)\r\n"
   ],
   "outputs": [
    {
     "output_type": "stream",
     "name": "stdout",
     "text": [
      "50000\n",
      "52000\n",
      "1.04\n"
     ]
    }
   ],
   "metadata": {}
  },
  {
   "cell_type": "code",
   "execution_count": 27,
   "source": [
    "class Employee:\r\n",
    "\r\n",
    "    raise_amount = 1.04\r\n",
    "    def __init__(self, first, last, pay):\r\n",
    "        self.first = first\r\n",
    "        self.last = last\r\n",
    "        self.pay = pay\r\n",
    "        self.email = first + '.' + last + '@company.com'\r\n",
    "\r\n",
    "    def fullname(self):\r\n",
    "        return '{} {}'.format(self.first, self.last)\r\n",
    "\r\n",
    "    def apply_raise(self):\r\n",
    "        self.pay = int(self.pay * Employee.raise_amount)\r\n",
    "\r\n",
    "emp_1 = Employee('Corey', 'Schafer', 50000)\r\n",
    "emp_2 = Employee('Test', 'User', 60000)\r\n",
    "\r\n",
    "# print(emp_1.pay)\r\n",
    "# emp_1.apply_raise()\r\n",
    "# print(emp_1.pay)\r\n",
    "print(Employee.raise_amount)\r\n",
    "print(emp_1.raise_amount)\r\n",
    "print(emp_2.raise_amount)"
   ],
   "outputs": [
    {
     "output_type": "stream",
     "name": "stdout",
     "text": [
      "1.04\n",
      "1.04\n",
      "1.04\n"
     ]
    }
   ],
   "metadata": {}
  },
  {
   "cell_type": "code",
   "execution_count": 28,
   "source": [
    "class Employee:\r\n",
    "\r\n",
    "    raise_amount = 1.04\r\n",
    "    def __init__(self, first, last, pay):\r\n",
    "        self.first = first\r\n",
    "        self.last = last\r\n",
    "        self.pay = pay\r\n",
    "        self.email = first + '.' + last + '@company.com'\r\n",
    "\r\n",
    "    def fullname(self):\r\n",
    "        return '{} {}'.format(self.first, self.last)\r\n",
    "\r\n",
    "    def apply_raise(self):\r\n",
    "        self.pay = int(self.pay * Employee.raise_amount)\r\n",
    "\r\n",
    "emp_1 = Employee('Corey', 'Schafer', 50000)\r\n",
    "emp_2 = Employee('Test', 'User', 60000)\r\n",
    "\r\n",
    "print(emp_1.__dict__)\r\n",
    "\r\n",
    "# print(emp_1.pay)\r\n",
    "# emp_1.apply_raise()\r\n",
    "# print(emp_1.pay)\r\n",
    "# print(Employee.raise_amount)\r\n",
    "# print(emp_1.raise_amount)\r\n",
    "# print(emp_2.raise_amount)"
   ],
   "outputs": [
    {
     "output_type": "stream",
     "name": "stdout",
     "text": [
      "{'first': 'Corey', 'last': 'Schafer', 'pay': 50000, 'email': 'Corey.Schafer@company.com'}\n"
     ]
    }
   ],
   "metadata": {}
  },
  {
   "cell_type": "code",
   "execution_count": 30,
   "source": [
    "class Employee:\r\n",
    "\r\n",
    "    raise_amount = 1.04\r\n",
    "    def __init__(self, first, last, pay):\r\n",
    "        self.first = first\r\n",
    "        self.last = last\r\n",
    "        self.pay = pay\r\n",
    "        self.email = first + '.' + last + '@company.com'\r\n",
    "\r\n",
    "    def fullname(self):\r\n",
    "        return '{} {}'.format(self.first, self.last)\r\n",
    "\r\n",
    "    def apply_raise(self):\r\n",
    "        self.pay = int(self.pay * Employee.raise_amount)\r\n",
    "\r\n",
    "emp_1 = Employee('Corey', 'Schafer', 50000)\r\n",
    "emp_2 = Employee('Test', 'User', 60000)\r\n",
    "\r\n",
    "print(Employee.__dict__)\r\n",
    "\r\n",
    "# print(emp_1.pay)\r\n",
    "# emp_1.apply_raise()\r\n",
    "# print(emp_1.pay)\r\n",
    "# print(Employee.raise_amount)\r\n",
    "# print(emp_1.raise_amount)\r\n",
    "# print(emp_2.raise_amount)"
   ],
   "outputs": [
    {
     "output_type": "stream",
     "name": "stdout",
     "text": [
      "{'__module__': '__main__', 'raise_amount': 1.04, '__init__': <function Employee.__init__ at 0x0000021838CBE4C0>, 'fullname': <function Employee.fullname at 0x0000021838CBE550>, 'apply_raise': <function Employee.apply_raise at 0x0000021838CBE5E0>, '__dict__': <attribute '__dict__' of 'Employee' objects>, '__weakref__': <attribute '__weakref__' of 'Employee' objects>, '__doc__': None}\n"
     ]
    }
   ],
   "metadata": {}
  },
  {
   "cell_type": "code",
   "execution_count": 32,
   "source": [
    "class Employee:\r\n",
    "\r\n",
    "    raise_amount = 1.04\r\n",
    "    def __init__(self, first, last, pay):\r\n",
    "        self.first = first\r\n",
    "        self.last = last\r\n",
    "        self.pay = pay\r\n",
    "        self.email = first + '.' + last + '@company.com'\r\n",
    "\r\n",
    "    def fullname(self):\r\n",
    "        return '{} {}'.format(self.first, self.last)\r\n",
    "\r\n",
    "    def apply_raise(self):\r\n",
    "        self.pay = int(self.pay * Employee.raise_amount)\r\n",
    "\r\n",
    "emp_1 = Employee('Corey', 'Schafer', 50000)\r\n",
    "emp_2 = Employee('Test', 'User', 60000)\r\n",
    "\r\n",
    "# print(Employee.__dict__)\r\n",
    "\r\n",
    "emp_1.raise_amount = 1.05\r\n",
    "\r\n",
    "# print(emp_1.pay)\r\n",
    "# emp_1.apply_raise()\r\n",
    "# print(emp_1.pay)\r\n",
    "print(Employee.raise_amount)\r\n",
    "print(emp_1.raise_amount)\r\n",
    "print(emp_2.raise_amount)"
   ],
   "outputs": [
    {
     "output_type": "stream",
     "name": "stdout",
     "text": [
      "1.04\n",
      "1.05\n",
      "1.04\n"
     ]
    }
   ],
   "metadata": {}
  },
  {
   "cell_type": "code",
   "execution_count": 34,
   "source": [
    "class Employee:\r\n",
    "\r\n",
    "    raise_amount = 1.04\r\n",
    "    def __init__(self, first, last, pay):\r\n",
    "        self.first = first\r\n",
    "        self.last = last\r\n",
    "        self.pay = pay\r\n",
    "        self.email = first + '.' + last + '@company.com'\r\n",
    "\r\n",
    "    def fullname(self):\r\n",
    "        return '{} {}'.format(self.first, self.last)\r\n",
    "\r\n",
    "    def apply_raise(self):\r\n",
    "        self.pay = int(self.pay * Employee.raise_amount)\r\n",
    "\r\n",
    "emp_1 = Employee('Corey', 'Schafer', 50000)\r\n",
    "emp_2 = Employee('Test', 'User', 60000)\r\n",
    "\r\n",
    "# print(Employee.__dict__)\r\n",
    "\r\n",
    "emp_1.raise_amount = 1.05\r\n",
    "\r\n",
    "print(emp_1.__dict__)\r\n",
    "# print(emp_1.pay)\r\n",
    "# emp_1.apply_raise()\r\n",
    "# print(emp_1.pay)\r\n",
    "print(Employee.raise_amount)\r\n",
    "print(emp_1.raise_amount)\r\n",
    "print(emp_2.raise_amount)"
   ],
   "outputs": [
    {
     "output_type": "stream",
     "name": "stdout",
     "text": [
      "{'first': 'Corey', 'last': 'Schafer', 'pay': 50000, 'email': 'Corey.Schafer@company.com', 'raise_amount': 1.05}\n",
      "1.04\n",
      "1.05\n",
      "1.04\n"
     ]
    }
   ],
   "metadata": {}
  },
  {
   "cell_type": "code",
   "execution_count": 35,
   "source": [
    "class Employee:\r\n",
    "\r\n",
    "    num_of_emps = 0\r\n",
    "    raise_amount = 1.04\r\n",
    "    def __init__(self, first, last, pay):\r\n",
    "        self.first = first\r\n",
    "        self.last = last\r\n",
    "        self.pay = pay\r\n",
    "        self.email = first + '.' + last + '@company.com'\r\n",
    "\r\n",
    "        Employee.num_of_emps += 1\r\n",
    "\r\n",
    "    def fullname(self):\r\n",
    "        return '{} {}'.format(self.first, self.last)\r\n",
    "\r\n",
    "    def apply_raise(self):\r\n",
    "        self.pay = int(self.pay * Employee.raise_amount)\r\n",
    "\r\n",
    "emp_1 = Employee('Corey', 'Schafer', 50000)\r\n",
    "emp_2 = Employee('Test', 'User', 60000)\r\n",
    "\r\n",
    "print(Employee.num_of_emps)"
   ],
   "outputs": [
    {
     "output_type": "stream",
     "name": "stdout",
     "text": [
      "2\n"
     ]
    }
   ],
   "metadata": {}
  },
  {
   "cell_type": "markdown",
   "source": [
    "Video #3"
   ],
   "metadata": {}
  },
  {
   "cell_type": "code",
   "execution_count": 1,
   "source": [
    "class Employee:\r\n",
    "\r\n",
    "    num_of_emps = 0\r\n",
    "    raise_amt = 1.04\r\n",
    "\r\n",
    "    def __init__(self, first, last, pay):\r\n",
    "        self.first = first\r\n",
    "        self.last = last\r\n",
    "        self.pay = pay\r\n",
    "        self.email = first + '.' + last + '@email.com'\r\n",
    "\r\n",
    "        Employee.num_of_emps += 1\r\n",
    "\r\n",
    "    def fullname(self):\r\n",
    "        return '{} {}'.format(self.first, self.last)\r\n",
    "\r\n",
    "    def apply_raise(self):\r\n",
    "        self.pay = int(self.pay * self.raise_amt)\r\n",
    "\r\n",
    "    @classmethod\r\n",
    "    def set_raise_amt(cls, amount):\r\n",
    "        cls.raise_amt = amount\r\n",
    "\r\n",
    "emp_1 = Employee('Corey', 'Schafer', 50000)\r\n",
    "emp_2 = Employee('Test', 'User', 60000)\r\n",
    "\r\n",
    "print(Employee.raise_amt)\r\n",
    "print(emp_1.raise_amt)\r\n",
    "print(emp_2.raise_amt)"
   ],
   "outputs": [
    {
     "output_type": "stream",
     "name": "stdout",
     "text": [
      "1.04\n",
      "1.04\n",
      "1.04\n"
     ]
    }
   ],
   "metadata": {}
  },
  {
   "cell_type": "code",
   "execution_count": 2,
   "source": [
    "class Employee:\r\n",
    "\r\n",
    "    num_of_emps = 0\r\n",
    "    raise_amt = 1.04\r\n",
    "\r\n",
    "    def __init__(self, first, last, pay):\r\n",
    "        self.first = first\r\n",
    "        self.last = last\r\n",
    "        self.pay = pay\r\n",
    "        self.email = first + '.' + last + '@email.com'\r\n",
    "\r\n",
    "        Employee.num_of_emps += 1\r\n",
    "\r\n",
    "    def fullname(self):\r\n",
    "        return '{} {}'.format(self.first, self.last)\r\n",
    "\r\n",
    "    def apply_raise(self):\r\n",
    "        self.pay = int(self.pay * self.raise_amt)\r\n",
    "\r\n",
    "    @classmethod\r\n",
    "    def set_raise_amt(cls, amount):\r\n",
    "        cls.raise_amt = amount\r\n",
    "\r\n",
    "emp_1 = Employee('Corey', 'Schafer', 50000)\r\n",
    "emp_2 = Employee('Test', 'User', 60000)\r\n",
    "\r\n",
    "Employee.set_raise_amt(1.05)\r\n",
    "\r\n",
    "print(Employee.raise_amt)\r\n",
    "print(emp_1.raise_amt)\r\n",
    "print(emp_2.raise_amt)"
   ],
   "outputs": [
    {
     "output_type": "stream",
     "name": "stdout",
     "text": [
      "1.05\n",
      "1.05\n",
      "1.05\n"
     ]
    }
   ],
   "metadata": {}
  },
  {
   "cell_type": "code",
   "execution_count": 3,
   "source": [
    "class Employee:\r\n",
    "\r\n",
    "    num_of_emps = 0\r\n",
    "    raise_amt = 1.04\r\n",
    "\r\n",
    "    def __init__(self, first, last, pay):\r\n",
    "        self.first = first\r\n",
    "        self.last = last\r\n",
    "        self.pay = pay\r\n",
    "        self.email = first + '.' + last + '@email.com'\r\n",
    "\r\n",
    "        Employee.num_of_emps += 1\r\n",
    "\r\n",
    "    def fullname(self):\r\n",
    "        return '{} {}'.format(self.first, self.last)\r\n",
    "\r\n",
    "    def apply_raise(self):\r\n",
    "        self.pay = int(self.pay * self.raise_amt)\r\n",
    "\r\n",
    "    @classmethod\r\n",
    "    def set_raise_amt(cls, amount):\r\n",
    "        cls.raise_amt = amount\r\n",
    "\r\n",
    "emp_1 = Employee('Corey', 'Schafer', 50000)\r\n",
    "emp_2 = Employee('Test', 'User', 60000)\r\n",
    "\r\n",
    "emp_str_1 = 'John-Doe-70000'\r\n",
    "emp_str_2 = 'Steve-Smith-30000'\r\n",
    "emp_str_3 = 'Jane-Doe-90000'\r\n",
    "\r\n",
    "first, last, pay = emp_str_1.split('-')\r\n",
    "\r\n",
    "new_emp_1 = Employee(first, last, pay)\r\n",
    "\r\n",
    "print(new_emp_1.email)\r\n",
    "print(new_emp_1.pay)\r\n"
   ],
   "outputs": [
    {
     "output_type": "stream",
     "name": "stdout",
     "text": [
      "John.Doe@email.com\n",
      "70000\n"
     ]
    }
   ],
   "metadata": {}
  },
  {
   "cell_type": "code",
   "execution_count": 5,
   "source": [
    "class Employee:\r\n",
    "\r\n",
    "    num_of_emps = 0\r\n",
    "    raise_amt = 1.04\r\n",
    "\r\n",
    "    def __init__(self, first, last, pay):\r\n",
    "        self.first = first\r\n",
    "        self.last = last\r\n",
    "        self.pay = pay\r\n",
    "        self.email = first + '.' + last + '@email.com'\r\n",
    "\r\n",
    "        Employee.num_of_emps += 1\r\n",
    "\r\n",
    "    def fullname(self):\r\n",
    "        return '{} {}'.format(self.first, self.last)\r\n",
    "\r\n",
    "    def apply_raise(self):\r\n",
    "        self.pay = int(self.pay * self.raise_amt)\r\n",
    "\r\n",
    "    @classmethod\r\n",
    "    def set_raise_amt(cls, amount):\r\n",
    "        cls.raise_amt = amount\r\n",
    "\r\n",
    "    @classmethod\r\n",
    "    def from_string(cls, emp_str):\r\n",
    "        first, last, pay = emp_str.split('-')\r\n",
    "        return cls(first, last, pay)\r\n",
    "\r\n",
    "emp_1 = Employee('Corey', 'Schafer', 50000)\r\n",
    "emp_2 = Employee('Test', 'User', 60000)\r\n",
    "\r\n",
    "emp_str_1 = 'John-Doe-70000'\r\n",
    "emp_str_2 = 'Steve-Smith-30000'\r\n",
    "emp_str_3 = 'Jane-Doe-90000'\r\n",
    "\r\n",
    "new_emp_1 = Employee.from_string(emp_str_1)\r\n",
    "\r\n",
    "print(new_emp_1.email)\r\n",
    "print(new_emp_1.pay)\r\n"
   ],
   "outputs": [
    {
     "output_type": "stream",
     "name": "stdout",
     "text": [
      "John.Doe@email.com\n",
      "70000\n"
     ]
    }
   ],
   "metadata": {}
  },
  {
   "cell_type": "code",
   "execution_count": 8,
   "source": [
    "class Employee:\r\n",
    "\r\n",
    "    num_of_emps = 0\r\n",
    "    raise_amt = 1.04\r\n",
    "\r\n",
    "    def __init__(self, first, last, pay):\r\n",
    "        self.first = first\r\n",
    "        self.last = last\r\n",
    "        self.pay = pay\r\n",
    "        self.email = first + '.' + last + '@email.com'\r\n",
    "\r\n",
    "        Employee.num_of_emps += 1\r\n",
    "\r\n",
    "    def fullname(self):\r\n",
    "        return '{} {}'.format(self.first, self.last)\r\n",
    "\r\n",
    "    def apply_raise(self):\r\n",
    "        self.pay = int(self.pay * self.raise_amt)\r\n",
    "\r\n",
    "    @classmethod\r\n",
    "    def set_raise_amt(cls, amount):\r\n",
    "        cls.raise_amt = amount\r\n",
    "\r\n",
    "    @classmethod\r\n",
    "    def from_string(cls, emp_str):\r\n",
    "        first, last, pay = emp_str.split('-')\r\n",
    "        return cls(first, last, pay)\r\n",
    "\r\n",
    "    @staticmethod\r\n",
    "    def is_workday(day):\r\n",
    "        if day.weekday() == 5 or day.weekday() == 6:\r\n",
    "            return False\r\n",
    "        return True\r\n",
    "        \r\n",
    "emp_1 = Employee('Corey', 'Schafer', 50000)\r\n",
    "emp_2 = Employee('Test', 'User', 60000)\r\n",
    "\r\n",
    "import datetime\r\n",
    "my_date = datetime.date(2016, 7, 11)\r\n",
    "\r\n",
    "print(Employee.is_workday(my_date))\r\n",
    "\r\n",
    "\r\n"
   ],
   "outputs": [
    {
     "output_type": "stream",
     "name": "stdout",
     "text": [
      "True\n"
     ]
    }
   ],
   "metadata": {}
  },
  {
   "cell_type": "markdown",
   "source": [
    "Video #4"
   ],
   "metadata": {}
  },
  {
   "cell_type": "code",
   "execution_count": 11,
   "source": [
    "class Employee:\r\n",
    "\r\n",
    "    raise_amt = 1.04\r\n",
    "\r\n",
    "    def __init__(self, first, last, pay):\r\n",
    "        self.first = first\r\n",
    "        self.last = last\r\n",
    "        self.pay = pay\r\n",
    "        self.email = first + '.' + last + '@email.com'\r\n",
    "\r\n",
    "    def fullname(self):\r\n",
    "        return '{} {}'.format(self.first, self.last)\r\n",
    "\r\n",
    "    def apply_raise(self):\r\n",
    "        self.pay = int(self.pay * self.raise_amt)\r\n",
    "\r\n",
    "class Developer(Employee):\r\n",
    "    pass\r\n",
    "\r\n",
    "dev_1 = Developer('Corey', 'Schafer', 50000)\r\n",
    "dev_2 = Developer('Test', 'User', 60000)\r\n",
    "\r\n",
    "print(dev_1.email)\r\n",
    "print(dev_2.email)"
   ],
   "outputs": [
    {
     "output_type": "stream",
     "name": "stdout",
     "text": [
      "Corey.Schafer@email.com\n",
      "Test.User@email.com\n"
     ]
    }
   ],
   "metadata": {}
  },
  {
   "cell_type": "code",
   "execution_count": 16,
   "source": [
    "class Employee:\r\n",
    "\r\n",
    "    raise_amt = 1.04\r\n",
    "\r\n",
    "    def __init__(self, first, last, pay):\r\n",
    "        self.first = first\r\n",
    "        self.last = last\r\n",
    "        self.pay = pay\r\n",
    "        self.email = first + '.' + last + '@email.com'\r\n",
    "\r\n",
    "    def fullname(self):\r\n",
    "        return '{} {}'.format(self.first, self.last)\r\n",
    "\r\n",
    "    def apply_raise(self):\r\n",
    "        self.pay = int(self.pay * self.raise_amt)\r\n",
    "\r\n",
    "class Developer(Employee):\r\n",
    "    raise_amt = 1.10\r\n",
    "\r\n",
    "dev_1 = Developer('Corey', 'Schafer', 50000)\r\n",
    "dev_2 = Developer('Test', 'User', 60000)\r\n",
    "\r\n",
    "# print(dev_1.email)\r\n",
    "# print(dev_2.email)\r\n",
    "\r\n",
    "print(dev_1.pay)\r\n",
    "dev_1.apply_raise()\r\n",
    "print(dev_1.pay)"
   ],
   "outputs": [
    {
     "output_type": "stream",
     "name": "stdout",
     "text": [
      "50000\n",
      "55000\n"
     ]
    }
   ],
   "metadata": {}
  },
  {
   "cell_type": "code",
   "execution_count": 18,
   "source": [
    "class Employee:\r\n",
    "\r\n",
    "    raise_amt = 1.04\r\n",
    "\r\n",
    "    def __init__(self, first, last, pay):\r\n",
    "        self.first = first\r\n",
    "        self.last = last\r\n",
    "        self.pay = pay\r\n",
    "        self.email = first + '.' + last + '@email.com'\r\n",
    "\r\n",
    "    def fullname(self):\r\n",
    "        return '{} {}'.format(self.first, self.last)\r\n",
    "\r\n",
    "    def apply_raise(self):\r\n",
    "        self.pay = int(self.pay * self.raise_amt)\r\n",
    "\r\n",
    "class Developer(Employee):\r\n",
    "    raise_amt = 1.10\r\n",
    "\r\n",
    "    def __init__(self, first, last, pay, prog_lang):\r\n",
    "        super().__init__(first, last, pay)\r\n",
    "        self.prog_lang = prog_lang\r\n",
    "\r\n",
    "\r\n",
    "dev_1 = Developer('Corey', 'Schafer', 50000, 'Python')\r\n",
    "dev_2 = Developer('Test', 'User', 60000, 'Java')\r\n",
    "\r\n",
    "print(dev_1.email)\r\n",
    "print(dev_1.prog_lang)\r\n",
    "\r\n",
    "# print(dev_1.pay)\r\n",
    "# dev_1.apply_raise()\r\n",
    "# print(dev_1.pay)"
   ],
   "outputs": [
    {
     "output_type": "stream",
     "name": "stdout",
     "text": [
      "Corey.Schafer@email.com\n",
      "Python\n"
     ]
    }
   ],
   "metadata": {}
  },
  {
   "cell_type": "code",
   "execution_count": 21,
   "source": [
    "class Employee:\r\n",
    "\r\n",
    "    raise_amt = 1.04\r\n",
    "\r\n",
    "    def __init__(self, first, last, pay):\r\n",
    "        self.first = first\r\n",
    "        self.last = last\r\n",
    "        self.pay = pay\r\n",
    "        self.email = first + '.' + last + '@email.com'\r\n",
    "\r\n",
    "    def fullname(self):\r\n",
    "        return '{} {}'.format(self.first, self.last)\r\n",
    "\r\n",
    "    def apply_raise(self):\r\n",
    "        self.pay = int(self.pay * self.raise_amt)\r\n",
    "\r\n",
    "class Developer(Employee):\r\n",
    "    raise_amt = 1.10\r\n",
    "\r\n",
    "    def __init__(self, first, last, pay, prog_lang):\r\n",
    "        super().__init__(first, last, pay)\r\n",
    "        self.prog_lang = prog_lang\r\n",
    "\r\n",
    "class Manager(Employee):\r\n",
    "    def __init__(self, first, last, pay, employees=None):\r\n",
    "        super().__init__(first, last, pay)\r\n",
    "        if employees is None:\r\n",
    "            self.employees = []\r\n",
    "        else:\r\n",
    "            self.employees = employees\r\n",
    "\r\n",
    "    def add_emp(self, emp):\r\n",
    "        if emp not in self.employees:\r\n",
    "            self.employees.append(emp)\r\n",
    "\r\n",
    "    def remove_emp(self, emp):\r\n",
    "        if emp in self.employees:\r\n",
    "            self.employees.remove(emp)\r\n",
    "\r\n",
    "    def print_emp(self):\r\n",
    "        for emp in self.employees:\r\n",
    "            print('-->', emp.fulname())\r\n",
    "\r\n",
    "\r\n",
    "dev_1 = Developer('Corey', 'Schafer', 50000, 'Python')\r\n",
    "dev_2 = Developer('Test', 'User', 60000, 'Java')\r\n",
    "\r\n",
    "mgr_1 = Manager ('Sue','Smith', 90000, [dev_1])\r\n",
    "\r\n",
    "print(mgr_1.email)\r\n",
    "# print(dev_1.email)\r\n",
    "# print(dev_1.prog_lang)\r\n",
    "\r\n",
    "# print(dev_1.pay)\r\n",
    "# dev_1.apply_raise()\r\n",
    "# print(dev_1.pay)"
   ],
   "outputs": [
    {
     "output_type": "stream",
     "name": "stdout",
     "text": [
      "Sue.Smith@email.com\n"
     ]
    }
   ],
   "metadata": {}
  },
  {
   "cell_type": "code",
   "execution_count": 28,
   "source": [
    "class Employee:\r\n",
    "\r\n",
    "    raise_amt = 1.04\r\n",
    "\r\n",
    "    def __init__(self, first, last, pay):\r\n",
    "        self.first = first\r\n",
    "        self.last = last\r\n",
    "        self.pay = pay\r\n",
    "        self.email = first + '.' + last + '@email.com'\r\n",
    "\r\n",
    "    def fullname(self):\r\n",
    "        return '{} {}'.format(self.first, self.last)\r\n",
    "\r\n",
    "    def apply_raise(self):\r\n",
    "        self.pay = int(self.pay * self.raise_amt)\r\n",
    "\r\n",
    "class Developer(Employee):\r\n",
    "    raise_amt = 1.10\r\n",
    "\r\n",
    "    def __init__(self, first, last, pay, prog_lang):\r\n",
    "        super().__init__(first, last, pay)\r\n",
    "        self.prog_lang = prog_lang\r\n",
    "\r\n",
    "class Manager(Employee):\r\n",
    "    def __init__(self, first, last, pay, employees=None):\r\n",
    "        super().__init__(first, last, pay)\r\n",
    "        if employees is None:\r\n",
    "            self.employees = []\r\n",
    "        else:\r\n",
    "            self.employees = employees\r\n",
    "\r\n",
    "    def add_emp(self, emp):\r\n",
    "        if emp not in self.employees:\r\n",
    "            self.employees.append(emp)\r\n",
    "\r\n",
    "    def remove_emp(self, emp):\r\n",
    "        if emp in self.employees:\r\n",
    "            self.employees.remove(emp)\r\n",
    "\r\n",
    "    def print_emps(self):\r\n",
    "        for emp in self.employees:\r\n",
    "            print('-->', emp.fullname())\r\n",
    "\r\n",
    "\r\n",
    "dev_1 = Developer('Corey', 'Schafer', 50000, 'Python')\r\n",
    "dev_2 = Developer('Test', 'User', 60000, 'Java')\r\n",
    "\r\n",
    "mgr_1 = Manager ('Sue','Smith', 90000, [dev_1])\r\n",
    "\r\n",
    "print(mgr_1.email)\r\n",
    "\r\n",
    "mgr_1.add_emp(dev_2)\r\n",
    "\r\n",
    "mgr_1.print_emps()\r\n",
    "# print(dev_1.email)\r\n",
    "# print(dev_1.prog_lang)\r\n",
    "\r\n",
    "# print(dev_1.pay)\r\n",
    "# dev_1.apply_raise()\r\n",
    "# print(dev_1.pay)"
   ],
   "outputs": [
    {
     "output_type": "stream",
     "name": "stdout",
     "text": [
      "Sue.Smith@email.com\n",
      "--> Corey Schafer\n",
      "--> Test User\n"
     ]
    }
   ],
   "metadata": {}
  },
  {
   "cell_type": "code",
   "execution_count": 32,
   "source": [
    "class Employee:\r\n",
    "\r\n",
    "    raise_amt = 1.04\r\n",
    "\r\n",
    "    def __init__(self, first, last, pay):\r\n",
    "        self.first = first\r\n",
    "        self.last = last\r\n",
    "        self.pay = pay\r\n",
    "        self.email = first + '.' + last + '@email.com'\r\n",
    "\r\n",
    "    def fullname(self):\r\n",
    "        return '{} {}'.format(self.first, self.last)\r\n",
    "\r\n",
    "    def apply_raise(self):\r\n",
    "        self.pay = int(self.pay * self.raise_amt)\r\n",
    "\r\n",
    "class Developer(Employee):\r\n",
    "    raise_amt = 1.10\r\n",
    "\r\n",
    "    def __init__(self, first, last, pay, prog_lang):\r\n",
    "        super().__init__(first, last, pay)\r\n",
    "        self.prog_lang = prog_lang\r\n",
    "\r\n",
    "class Manager(Employee):\r\n",
    "    def __init__(self, first, last, pay, employees=None):\r\n",
    "        super().__init__(first, last, pay)\r\n",
    "        if employees is None:\r\n",
    "            self.employees = []\r\n",
    "        else:\r\n",
    "            self.employees = employees\r\n",
    "\r\n",
    "    def add_emp(self, emp):\r\n",
    "        if emp not in self.employees:\r\n",
    "            self.employees.append(emp)\r\n",
    "\r\n",
    "    def remove_emp(self, emp):\r\n",
    "        if emp in self.employees:\r\n",
    "            self.employees.remove(emp)\r\n",
    "\r\n",
    "    def print_emps(self):\r\n",
    "        for emp in self.employees:\r\n",
    "            print('-->', emp.fullname())\r\n",
    "\r\n",
    "\r\n",
    "dev_1 = Developer('Corey', 'Schafer', 50000, 'Python')\r\n",
    "dev_2 = Developer('Test', 'User', 60000, 'Java')\r\n",
    "\r\n",
    "mgr_1 = Manager ('Sue','Smith', 90000, [dev_1])\r\n",
    "\r\n",
    "print(isinstance(mgr_1, Manager))\r\n",
    "print(isinstance(mgr_1, Employee))\r\n",
    "print(isinstance(mgr_1, Developer))\r\n",
    "print(issubclass(Manager, Employee))\r\n",
    "print(issubclass(Manager, Developer))"
   ],
   "outputs": [
    {
     "output_type": "stream",
     "name": "stdout",
     "text": [
      "True\n",
      "True\n",
      "False\n",
      "True\n",
      "False\n"
     ]
    }
   ],
   "metadata": {}
  },
  {
   "cell_type": "markdown",
   "source": [
    "Video #5"
   ],
   "metadata": {}
  },
  {
   "cell_type": "code",
   "execution_count": 33,
   "source": [
    "class Employee:\r\n",
    "\r\n",
    "    raise_amt = 1.04\r\n",
    "\r\n",
    "    def __init__(self, first, last, pay):\r\n",
    "        self.first = first\r\n",
    "        self.last = last\r\n",
    "        self.pay = pay\r\n",
    "        self.email = first + '.' + last + '@email.com'\r\n",
    "\r\n",
    "    def fullname(self):\r\n",
    "        return '{} {}'.format(self.first, self.last)\r\n",
    "\r\n",
    "    def apply_raise(self):\r\n",
    "        self.pay = int(self.pay * self.raise_amt)\r\n",
    "\r\n",
    "    # def __repr__(self):\r\n",
    "    #     pass\r\n",
    "\r\n",
    "    # def __str__(self):\r\n",
    "    #     pass\r\n",
    "\r\n",
    "emp_1 = Employee('Corey', 'Schafer', 50000)\r\n",
    "emp_2 = Employee('Test', 'Employee', 60000)\r\n",
    "\r\n",
    "# print(emp_1)\r\n",
    "\r\n",
    "print(1 + 2)\r\n",
    "print('a' + 'b')"
   ],
   "outputs": [
    {
     "output_type": "stream",
     "name": "stdout",
     "text": [
      "3\n",
      "ab\n"
     ]
    }
   ],
   "metadata": {}
  },
  {
   "cell_type": "code",
   "execution_count": 34,
   "source": [
    "class Employee:\r\n",
    "\r\n",
    "    raise_amt = 1.04\r\n",
    "\r\n",
    "    def __init__(self, first, last, pay):\r\n",
    "        self.first = first\r\n",
    "        self.last = last\r\n",
    "        self.pay = pay\r\n",
    "        self.email = first + '.' + last + '@email.com'\r\n",
    "\r\n",
    "    def fullname(self):\r\n",
    "        return '{} {}'.format(self.first, self.last)\r\n",
    "\r\n",
    "    def apply_raise(self):\r\n",
    "        self.pay = int(self.pay * self.raise_amt)\r\n",
    "\r\n",
    "    # def __repr__(self):\r\n",
    "    #     pass\r\n",
    "\r\n",
    "    # def __str__(self):\r\n",
    "    #     pass\r\n",
    "\r\n",
    "emp_1 = Employee('Corey', 'Schafer', 50000)\r\n",
    "emp_2 = Employee('Test', 'Employee', 60000)\r\n",
    "\r\n",
    "print(emp_1)\r\n"
   ],
   "outputs": [
    {
     "output_type": "stream",
     "name": "stdout",
     "text": [
      "<__main__.Employee object at 0x0000018CE8A9BF40>\n"
     ]
    }
   ],
   "metadata": {}
  },
  {
   "cell_type": "code",
   "execution_count": 35,
   "source": [
    "class Employee:\r\n",
    "\r\n",
    "    raise_amt = 1.04\r\n",
    "\r\n",
    "    def __init__(self, first, last, pay):\r\n",
    "        self.first = first\r\n",
    "        self.last = last\r\n",
    "        self.pay = pay\r\n",
    "        self.email = first + '.' + last + '@email.com'\r\n",
    "\r\n",
    "    def fullname(self):\r\n",
    "        return '{} {}'.format(self.first, self.last)\r\n",
    "\r\n",
    "    def apply_raise(self):\r\n",
    "        self.pay = int(self.pay * self.raise_amt)\r\n",
    "\r\n",
    "    def __repr__(self):\r\n",
    "        return \"Employee('{}', '{}', {})\".format(self.first, self.last, self.pay)\r\n",
    "\r\n",
    "    # def __str__(self):\r\n",
    "    #     pass\r\n",
    "\r\n",
    "emp_1 = Employee('Corey', 'Schafer', 50000)\r\n",
    "emp_2 = Employee('Test', 'Employee', 60000)\r\n",
    "\r\n",
    "print(emp_1)\r\n",
    "\r\n",
    "# repr(emp_1)\r\n",
    "# str(emp_1)"
   ],
   "outputs": [
    {
     "output_type": "stream",
     "name": "stdout",
     "text": [
      "Employee('Corey', 'Schafer', 50000)\n"
     ]
    }
   ],
   "metadata": {}
  },
  {
   "cell_type": "code",
   "execution_count": 37,
   "source": [
    "class Employee:\r\n",
    "\r\n",
    "    raise_amt = 1.04\r\n",
    "\r\n",
    "    def __init__(self, first, last, pay):\r\n",
    "        self.first = first\r\n",
    "        self.last = last\r\n",
    "        self.pay = pay\r\n",
    "        self.email = first + '.' + last + '@email.com'\r\n",
    "\r\n",
    "    def fullname(self):\r\n",
    "        return '{} {}'.format(self.first, self.last)\r\n",
    "\r\n",
    "    def apply_raise(self):\r\n",
    "        self.pay = int(self.pay * self.raise_amt)\r\n",
    "\r\n",
    "    def __repr__(self):\r\n",
    "        return \"Employee('{}', '{}', {})\".format(self.first, self.last, self.pay)\r\n",
    "\r\n",
    "    def __str__(self):\r\n",
    "        return '{} - {}'.format(self.fullname(), self.email)\r\n",
    "\r\n",
    "emp_1 = Employee('Corey', 'Schafer', 50000)\r\n",
    "emp_2 = Employee('Test', 'Employee', 60000)\r\n",
    "\r\n",
    "print(emp_1)\r\n",
    "\r\n",
    "# repr(emp_1)\r\n",
    "# str(emp_1)"
   ],
   "outputs": [
    {
     "output_type": "stream",
     "name": "stdout",
     "text": [
      "Corey Schafer - Corey.Schafer@email.com\n"
     ]
    }
   ],
   "metadata": {}
  },
  {
   "cell_type": "code",
   "execution_count": 39,
   "source": [
    "class Employee:\r\n",
    "\r\n",
    "    raise_amt = 1.04\r\n",
    "\r\n",
    "    def __init__(self, first, last, pay):\r\n",
    "        self.first = first\r\n",
    "        self.last = last\r\n",
    "        self.pay = pay\r\n",
    "        self.email = first + '.' + last + '@email.com'\r\n",
    "\r\n",
    "    def fullname(self):\r\n",
    "        return '{} {}'.format(self.first, self.last)\r\n",
    "\r\n",
    "    def apply_raise(self):\r\n",
    "        self.pay = int(self.pay * self.raise_amt)\r\n",
    "\r\n",
    "    def __repr__(self):\r\n",
    "        return \"Employee('{}', '{}', {})\".format(self.first, self.last, self.pay)\r\n",
    "\r\n",
    "    def __str__(self):\r\n",
    "        return '{} - {}'.format(self.fullname(), self.email)\r\n",
    "\r\n",
    "emp_1 = Employee('Corey', 'Schafer', 50000)\r\n",
    "emp_2 = Employee('Test', 'Employee', 60000)\r\n",
    "\r\n",
    "# print(emp_1)\r\n",
    "\r\n",
    "print(repr(emp_1))\r\n",
    "print(str(emp_1))"
   ],
   "outputs": [
    {
     "output_type": "stream",
     "name": "stdout",
     "text": [
      "Employee('Corey', 'Schafer', 50000)\n",
      "Corey Schafer - Corey.Schafer@email.com\n"
     ]
    }
   ],
   "metadata": {}
  },
  {
   "cell_type": "code",
   "execution_count": 42,
   "source": [
    "class Employee:\r\n",
    "\r\n",
    "    raise_amt = 1.04\r\n",
    "\r\n",
    "    def __init__(self, first, last, pay):\r\n",
    "        self.first = first\r\n",
    "        self.last = last\r\n",
    "        self.pay = pay\r\n",
    "        self.email = first + '.' + last + '@email.com'\r\n",
    "\r\n",
    "    def fullname(self):\r\n",
    "        return '{} {}'.format(self.first, self.last)\r\n",
    "\r\n",
    "    def apply_raise(self):\r\n",
    "        self.pay = int(self.pay * self.raise_amt)\r\n",
    "\r\n",
    "    def __repr__(self):\r\n",
    "        return \"Employee('{}', '{}', {})\".format(self.first, self.last, self.pay)\r\n",
    "\r\n",
    "    def __str__(self):\r\n",
    "        return '{} - {}'.format(self.fullname(), self.email)\r\n",
    "\r\n",
    "emp_1 = Employee('Corey', 'Schafer', 50000)\r\n",
    "emp_2 = Employee('Test', 'Employee', 60000)\r\n",
    "\r\n",
    "# print(emp_1)\r\n",
    "\r\n",
    "# print(repr(emp_1))\r\n",
    "# print(str(emp_1))\r\n",
    "\r\n",
    "print(emp_1.__repr__())\r\n",
    "print(emp_1.__str__())"
   ],
   "outputs": [
    {
     "output_type": "stream",
     "name": "stdout",
     "text": [
      "Employee('Corey', 'Schafer', 50000)\n",
      "Corey Schafer - Corey.Schafer@email.com\n"
     ]
    }
   ],
   "metadata": {}
  },
  {
   "cell_type": "code",
   "execution_count": 45,
   "source": [
    "class Employee:\r\n",
    "\r\n",
    "    raise_amt = 1.04\r\n",
    "\r\n",
    "    def __init__(self, first, last, pay):\r\n",
    "        self.first = first\r\n",
    "        self.last = last\r\n",
    "        self.pay = pay\r\n",
    "        self.email = first + '.' + last + '@email.com'\r\n",
    "\r\n",
    "    def fullname(self):\r\n",
    "        return '{} {}'.format(self.first, self.last)\r\n",
    "\r\n",
    "    def apply_raise(self):\r\n",
    "        self.pay = int(self.pay * self.raise_amt)\r\n",
    "\r\n",
    "    def __repr__(self):\r\n",
    "        return \"Employee('{}', '{}', {})\".format(self.first, self.last, self.pay)\r\n",
    "\r\n",
    "    def __str__(self):\r\n",
    "        return '{} - {}'.format(self.fullname(), self.email)\r\n",
    "\r\n",
    "emp_1 = Employee('Corey', 'Schafer', 50000)\r\n",
    "emp_2 = Employee('Test', 'Employee', 60000)\r\n",
    "\r\n",
    "# print(emp_1)\r\n",
    "\r\n",
    "# print(repr(emp_1))\r\n",
    "# print(str(emp_1))\r\n",
    "\r\n",
    "# print(emp_1.__repr__())\r\n",
    "# print(emp_1.__str__())\r\n",
    "\r\n",
    "print(1 + 2)\r\n",
    "print(int.__add__(1,2))\r\n",
    "print(str.__add__('a','b'))"
   ],
   "outputs": [
    {
     "output_type": "stream",
     "name": "stdout",
     "text": [
      "3\n",
      "3\n",
      "ab\n"
     ]
    }
   ],
   "metadata": {}
  },
  {
   "cell_type": "code",
   "execution_count": 47,
   "source": [
    "class Employee:\r\n",
    "\r\n",
    "    raise_amt = 1.04\r\n",
    "\r\n",
    "    def __init__(self, first, last, pay):\r\n",
    "        self.first = first\r\n",
    "        self.last = last\r\n",
    "        self.pay = pay\r\n",
    "        self.email = first + '.' + last + '@email.com'\r\n",
    "\r\n",
    "    def fullname(self):\r\n",
    "        return '{} {}'.format(self.first, self.last)\r\n",
    "\r\n",
    "    def apply_raise(self):\r\n",
    "        self.pay = int(self.pay * self.raise_amt)\r\n",
    "\r\n",
    "    def __repr__(self):\r\n",
    "        return \"Employee('{}', '{}', {})\".format(self.first, self.last, self.pay)\r\n",
    "\r\n",
    "    def __str__(self):\r\n",
    "        return '{} - {}'.format(self.fullname(), self.email)\r\n",
    "\r\n",
    "    def __add__(self, other):\r\n",
    "        return self.pay + other.pay\r\n",
    "\r\n",
    "emp_1 = Employee('Corey', 'Schafer', 50000)\r\n",
    "emp_2 = Employee('Test', 'Employee', 60000)\r\n",
    "\r\n",
    "print(emp_1 + emp_2)\r\n",
    "\r\n",
    "# print(emp_1)\r\n",
    "\r\n",
    "# print(repr(emp_1))\r\n",
    "# print(str(emp_1))\r\n",
    "\r\n",
    "# print(emp_1.__repr__())\r\n",
    "# print(emp_1.__str__())\r\n"
   ],
   "outputs": [
    {
     "output_type": "stream",
     "name": "stdout",
     "text": [
      "110000\n"
     ]
    }
   ],
   "metadata": {}
  },
  {
   "cell_type": "code",
   "execution_count": 49,
   "source": [
    "class Employee:\r\n",
    "\r\n",
    "    raise_amt = 1.04\r\n",
    "\r\n",
    "    def __init__(self, first, last, pay):\r\n",
    "        self.first = first\r\n",
    "        self.last = last\r\n",
    "        self.pay = pay\r\n",
    "        self.email = first + '.' + last + '@email.com'\r\n",
    "\r\n",
    "    def fullname(self):\r\n",
    "        return '{} {}'.format(self.first, self.last)\r\n",
    "\r\n",
    "    def apply_raise(self):\r\n",
    "        self.pay = int(self.pay * self.raise_amt)\r\n",
    "\r\n",
    "    def __repr__(self):\r\n",
    "        return \"Employee('{}', '{}', {})\".format(self.first, self.last, self.pay)\r\n",
    "\r\n",
    "    def __str__(self):\r\n",
    "        return '{} - {}'.format(self.fullname(), self.email)\r\n",
    "\r\n",
    "    def __add__(self, other):\r\n",
    "        return self.pay + other.pay\r\n",
    "\r\n",
    "emp_1 = Employee('Corey', 'Schafer', 50000)\r\n",
    "emp_2 = Employee('Test', 'Employee', 60000)\r\n",
    "\r\n",
    "print(len('test'))\r\n",
    "\r\n",
    "print('test'.__len__())\r\n",
    "\r\n",
    "# print(emp_1)\r\n",
    "\r\n",
    "# print(repr(emp_1))\r\n",
    "# print(str(emp_1))\r\n",
    "\r\n",
    "# print(emp_1.__repr__())\r\n",
    "# print(emp_1.__str__())\r\n"
   ],
   "outputs": [
    {
     "output_type": "stream",
     "name": "stdout",
     "text": [
      "4\n",
      "4\n"
     ]
    }
   ],
   "metadata": {}
  },
  {
   "cell_type": "code",
   "execution_count": 50,
   "source": [
    "class Employee:\r\n",
    "\r\n",
    "    raise_amt = 1.04\r\n",
    "\r\n",
    "    def __init__(self, first, last, pay):\r\n",
    "        self.first = first\r\n",
    "        self.last = last\r\n",
    "        self.pay = pay\r\n",
    "        self.email = first + '.' + last + '@email.com'\r\n",
    "\r\n",
    "    def fullname(self):\r\n",
    "        return '{} {}'.format(self.first, self.last)\r\n",
    "\r\n",
    "    def apply_raise(self):\r\n",
    "        self.pay = int(self.pay * self.raise_amt)\r\n",
    "\r\n",
    "    def __repr__(self):\r\n",
    "        return \"Employee('{}', '{}', {})\".format(self.first, self.last, self.pay)\r\n",
    "\r\n",
    "    def __str__(self):\r\n",
    "        return '{} - {}'.format(self.fullname(), self.email)\r\n",
    "\r\n",
    "    def __add__(self, other):\r\n",
    "        return self.pay + other.pay\r\n",
    "\r\n",
    "    def __len__(self):\r\n",
    "        return len(self.fullname())\r\n",
    "\r\n",
    "emp_1 = Employee('Corey', 'Schafer', 50000)\r\n",
    "emp_2 = Employee('Test', 'Employee', 60000)\r\n",
    "\r\n",
    "print(len(emp_1))\r\n",
    "\r\n",
    "# print(emp_1)\r\n",
    "\r\n",
    "# print(repr(emp_1))\r\n",
    "# print(str(emp_1))\r\n",
    "\r\n",
    "# print(emp_1.__repr__())\r\n",
    "# print(emp_1.__str__())\r\n"
   ],
   "outputs": [
    {
     "output_type": "stream",
     "name": "stdout",
     "text": [
      "13\n"
     ]
    }
   ],
   "metadata": {}
  },
  {
   "cell_type": "markdown",
   "source": [
    "Video #6"
   ],
   "metadata": {}
  },
  {
   "cell_type": "code",
   "execution_count": 55,
   "source": [
    "class Employee:\r\n",
    "\r\n",
    "    def __init__(self, first, last):\r\n",
    "        self.first = first\r\n",
    "        self.last = last\r\n",
    "        self.email = first + '.' + last + '@email.com'\r\n",
    "\r\n",
    "    def fullname(self):\r\n",
    "        return '{} {}'.format(self.first, self.last)\r\n",
    "\r\n",
    "emp_1 = Employee('John', 'Smith')\r\n",
    "\r\n",
    "print(emp_1.first)\r\n",
    "print(emp_1.email)\r\n",
    "print(emp_1.fullname())\r\n"
   ],
   "outputs": [
    {
     "output_type": "stream",
     "name": "stdout",
     "text": [
      "John\n",
      "John.Smith@email.com\n",
      "John Smith\n"
     ]
    }
   ],
   "metadata": {}
  },
  {
   "cell_type": "code",
   "execution_count": 57,
   "source": [
    "class Employee:\r\n",
    "\r\n",
    "    def __init__(self, first, last):\r\n",
    "        self.first = first\r\n",
    "        self.last = last\r\n",
    "        self.email = first + '.' + last + '@email.com'\r\n",
    "\r\n",
    "    def fullname(self):\r\n",
    "        return '{} {}'.format(self.first, self.last)\r\n",
    "\r\n",
    "emp_1 = Employee('John', 'Smith')\r\n",
    "\r\n",
    "emp_1.first = 'Jim'\r\n",
    "\r\n",
    "print(emp_1.first)\r\n",
    "print(emp_1.email)\r\n",
    "print(emp_1.fullname())\r\n"
   ],
   "outputs": [
    {
     "output_type": "stream",
     "name": "stdout",
     "text": [
      "Jim\n",
      "John.Smith@email.com\n",
      "Jim Smith\n"
     ]
    }
   ],
   "metadata": {}
  },
  {
   "cell_type": "code",
   "execution_count": 59,
   "source": [
    "class Employee:\r\n",
    "\r\n",
    "    def __init__(self, first, last):\r\n",
    "        self.first = first\r\n",
    "        self.last = last\r\n",
    "\r\n",
    "    def email(self):\r\n",
    "        return '{}.{}@email.com'.format(self.first, self.last)\r\n",
    "\r\n",
    "    def fullname(self):\r\n",
    "        return '{} {}'.format(self.first, self.last)\r\n",
    "\r\n",
    "emp_1 = Employee('John', 'Smith')\r\n",
    "\r\n",
    "emp_1.first = 'Jim'\r\n",
    "\r\n",
    "print(emp_1.first)\r\n",
    "print(emp_1.email())\r\n",
    "print(emp_1.fullname())\r\n"
   ],
   "outputs": [
    {
     "output_type": "stream",
     "name": "stdout",
     "text": [
      "Jim\n",
      "Jim.Smith@email.com\n",
      "Jim Smith\n"
     ]
    }
   ],
   "metadata": {}
  },
  {
   "cell_type": "code",
   "execution_count": 61,
   "source": [
    "class Employee:\r\n",
    "\r\n",
    "    def __init__(self, first, last):\r\n",
    "        self.first = first\r\n",
    "        self.last = last\r\n",
    "\r\n",
    "    @property\r\n",
    "    def email(self):\r\n",
    "        return '{}.{}@email.com'.format(self.first, self.last)\r\n",
    "\r\n",
    "    def fullname(self):\r\n",
    "        return '{} {}'.format(self.first, self.last)\r\n",
    "\r\n",
    "emp_1 = Employee('John', 'Smith')\r\n",
    "\r\n",
    "emp_1.first = 'Jim'\r\n",
    "\r\n",
    "print(emp_1.first)\r\n",
    "print(emp_1.email)\r\n",
    "print(emp_1.fullname())\r\n"
   ],
   "outputs": [
    {
     "output_type": "stream",
     "name": "stdout",
     "text": [
      "Jim\n",
      "Jim.Smith@email.com\n",
      "Jim Smith\n"
     ]
    }
   ],
   "metadata": {}
  },
  {
   "cell_type": "code",
   "execution_count": 63,
   "source": [
    "class Employee:\r\n",
    "\r\n",
    "    def __init__(self, first, last):\r\n",
    "        self.first = first\r\n",
    "        self.last = last\r\n",
    "\r\n",
    "    @property\r\n",
    "    def email(self):\r\n",
    "        return '{}.{}@email.com'.format(self.first, self.last)\r\n",
    "\r\n",
    "    @property\r\n",
    "    def fullname(self):\r\n",
    "        return '{} {}'.format(self.first, self.last)\r\n",
    "\r\n",
    "emp_1 = Employee('John', 'Smith')\r\n",
    "\r\n",
    "emp_1.first = 'Jim'\r\n",
    "\r\n",
    "print(emp_1.first)\r\n",
    "print(emp_1.email)\r\n",
    "print(emp_1.fullname)\r\n"
   ],
   "outputs": [
    {
     "output_type": "stream",
     "name": "stdout",
     "text": [
      "Jim\n",
      "Jim.Smith@email.com\n",
      "Jim Smith\n"
     ]
    }
   ],
   "metadata": {}
  },
  {
   "cell_type": "code",
   "execution_count": 64,
   "source": [
    "class Employee:\r\n",
    "\r\n",
    "    def __init__(self, first, last):\r\n",
    "        self.first = first\r\n",
    "        self.last = last\r\n",
    "\r\n",
    "    @property\r\n",
    "    def email(self):\r\n",
    "        return '{}.{}@email.com'.format(self.first, self.last)\r\n",
    "\r\n",
    "    @property\r\n",
    "    def fullname(self):\r\n",
    "        return '{} {}'.format(self.first, self.last)\r\n",
    "\r\n",
    "emp_1 = Employee('John', 'Smith')\r\n",
    "\r\n",
    "emp_1.fullname = 'Corey Schafer'\r\n",
    "\r\n",
    "emp_1.first = 'Jim'\r\n",
    "\r\n",
    "print(emp_1.first)\r\n",
    "print(emp_1.email)\r\n",
    "print(emp_1.fullname)\r\n"
   ],
   "outputs": [
    {
     "output_type": "error",
     "ename": "AttributeError",
     "evalue": "can't set attribute",
     "traceback": [
      "\u001b[1;31m---------------------------------------------------------------------------\u001b[0m",
      "\u001b[1;31mAttributeError\u001b[0m                            Traceback (most recent call last)",
      "\u001b[1;32m<ipython-input-64-51b0a805d1ac>\u001b[0m in \u001b[0;36m<module>\u001b[1;34m\u001b[0m\n\u001b[0;32m     15\u001b[0m \u001b[0memp_1\u001b[0m \u001b[1;33m=\u001b[0m \u001b[0mEmployee\u001b[0m\u001b[1;33m(\u001b[0m\u001b[1;34m'John'\u001b[0m\u001b[1;33m,\u001b[0m \u001b[1;34m'Smith'\u001b[0m\u001b[1;33m)\u001b[0m\u001b[1;33m\u001b[0m\u001b[1;33m\u001b[0m\u001b[0m\n\u001b[0;32m     16\u001b[0m \u001b[1;33m\u001b[0m\u001b[0m\n\u001b[1;32m---> 17\u001b[1;33m \u001b[0memp_1\u001b[0m\u001b[1;33m.\u001b[0m\u001b[0mfullname\u001b[0m \u001b[1;33m=\u001b[0m \u001b[1;34m'Corey Schafer'\u001b[0m\u001b[1;33m\u001b[0m\u001b[1;33m\u001b[0m\u001b[0m\n\u001b[0m\u001b[0;32m     18\u001b[0m \u001b[1;33m\u001b[0m\u001b[0m\n\u001b[0;32m     19\u001b[0m \u001b[0memp_1\u001b[0m\u001b[1;33m.\u001b[0m\u001b[0mfirst\u001b[0m \u001b[1;33m=\u001b[0m \u001b[1;34m'Jim'\u001b[0m\u001b[1;33m\u001b[0m\u001b[1;33m\u001b[0m\u001b[0m\n",
      "\u001b[1;31mAttributeError\u001b[0m: can't set attribute"
     ]
    }
   ],
   "metadata": {}
  },
  {
   "cell_type": "code",
   "execution_count": 66,
   "source": [
    "class Employee:\r\n",
    "\r\n",
    "    def __init__(self, first, last):\r\n",
    "        self.first = first\r\n",
    "        self.last = last\r\n",
    "\r\n",
    "    @property\r\n",
    "    def email(self):\r\n",
    "        return '{}.{}@email.com'.format(self.first, self.last)\r\n",
    "\r\n",
    "    @property\r\n",
    "    def fullname(self):\r\n",
    "        return '{} {}'.format(self.first, self.last)\r\n",
    "\r\n",
    "    @fullname.setter\r\n",
    "    def fullname(self, name):\r\n",
    "        first, last = name.split(' ')\r\n",
    "        self.first = first\r\n",
    "        self.last = last\r\n",
    "\r\n",
    "\r\n",
    "emp_1 = Employee('John', 'Smith')\r\n",
    "\r\n",
    "emp_1.fullname = 'Corey Schafer'\r\n",
    "\r\n",
    "print(emp_1.first)\r\n",
    "print(emp_1.email)\r\n",
    "print(emp_1.fullname)\r\n"
   ],
   "outputs": [
    {
     "output_type": "stream",
     "name": "stdout",
     "text": [
      "Corey\n",
      "Corey.Schafer@email.com\n",
      "Corey Schafer\n"
     ]
    }
   ],
   "metadata": {}
  },
  {
   "cell_type": "code",
   "execution_count": 67,
   "source": [
    "class Employee:\r\n",
    "\r\n",
    "    def __init__(self, first, last):\r\n",
    "        self.first = first\r\n",
    "        self.last = last\r\n",
    "\r\n",
    "    @property\r\n",
    "    def email(self):\r\n",
    "        return '{}.{}@email.com'.format(self.first, self.last)\r\n",
    "\r\n",
    "    @property\r\n",
    "    def fullname(self):\r\n",
    "        return '{} {}'.format(self.first, self.last)\r\n",
    "\r\n",
    "    @fullname.setter\r\n",
    "    def fullname(self, name):\r\n",
    "        first, last = name.split(' ')\r\n",
    "        self.first = first\r\n",
    "        self.last = last\r\n",
    "\r\n",
    "    @fullname.deleter\r\n",
    "    def fullname(self):\r\n",
    "        print('Delete Name!')\r\n",
    "        self.first = None\r\n",
    "        self.last = None\r\n",
    "\r\n",
    "emp_1 = Employee('John', 'Smith')\r\n",
    "\r\n",
    "emp_1.fullname = 'Corey Schafer'\r\n",
    "\r\n",
    "print(emp_1.first)\r\n",
    "print(emp_1.email)\r\n",
    "print(emp_1.fullname)\r\n",
    "\r\n",
    "del emp_1.fullname\r\n"
   ],
   "outputs": [
    {
     "output_type": "stream",
     "name": "stdout",
     "text": [
      "Corey\n",
      "Corey.Schafer@email.com\n",
      "Corey Schafer\n",
      "Delete Name!\n"
     ]
    }
   ],
   "metadata": {}
  }
 ],
 "metadata": {
  "orig_nbformat": 4,
  "language_info": {
   "name": "python",
   "version": "3.8.8",
   "mimetype": "text/x-python",
   "codemirror_mode": {
    "name": "ipython",
    "version": 3
   },
   "pygments_lexer": "ipython3",
   "nbconvert_exporter": "python",
   "file_extension": ".py"
  },
  "kernelspec": {
   "name": "python3",
   "display_name": "Python 3.8.8 64-bit ('base': conda)"
  },
  "interpreter": {
   "hash": "2a11790902704dc6bb7eb9b0cc36ba8d9bfcef8051a10a2cc2f6462a1c7ebcad"
  }
 },
 "nbformat": 4,
 "nbformat_minor": 2
}